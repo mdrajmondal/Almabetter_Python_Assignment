{
  "nbformat": 4,
  "nbformat_minor": 0,
  "metadata": {
    "kernelspec": {
      "display_name": "Python 3",
      "language": "python",
      "name": "python3"
    },
    "language_info": {
      "codemirror_mode": {
        "name": "ipython",
        "version": 3
      },
      "file_extension": ".py",
      "mimetype": "text/x-python",
      "name": "python",
      "nbconvert_exporter": "python",
      "pygments_lexer": "ipython3",
      "version": "3.7.4"
    },
    "colab": {
      "name": "Assignment Solution - Production Grade Programming I.ipynb",
      "provenance": [],
      "collapsed_sections": [],
      "include_colab_link": true
    }
  },
  "cells": [
    {
      "cell_type": "markdown",
      "metadata": {
        "id": "view-in-github",
        "colab_type": "text"
      },
      "source": [
        "<a href=\"https://colab.research.google.com/github/mdrajmondal/Almabetter_Python_Assignment/blob/main/Assignment_Solution_Production_Grade_Programming_I.ipynb\" target=\"_parent\"><img src=\"https://colab.research.google.com/assets/colab-badge.svg\" alt=\"Open In Colab\"/></a>"
      ]
    },
    {
      "cell_type": "markdown",
      "metadata": {
        "id": "8WbUJEVzs8Bx"
      },
      "source": [
        "## <u>While doing this assignment only use those concepts which have been taught till now</u>"
      ]
    },
    {
      "cell_type": "markdown",
      "metadata": {
        "id": "77zLnpaNvNSp"
      },
      "source": [
        "# <u> Problem 1</u>\n",
        "\n",
        "### Create a class <code>Cylinder</code> which takes two attributes <code>radius</code> and <code>height</code>.\n",
        "\n",
        "### Create the following methods in this class:\n",
        "\n",
        "* ### method <code>volume()</code> which calculates the volume of the cyinder which is defined as $V  = \\pi r^2 h$\n",
        "\n",
        "* ### method <code>surface_area()</code> which calculates the area of the cyinder which is defined as $S  = 2\\pi r h$\n"
      ]
    },
    {
      "cell_type": "code",
      "metadata": {
        "id": "-cWkCZ5OzX0G"
      },
      "source": [
        "# Write your code below. Take pi as 3.14\n",
        "class Cylinder:\n",
        "  def __init__(self,radius,height):\n",
        "    self.radius = radius\n",
        "    self.height = height\n",
        "\n",
        "  def volume(self):\n",
        "    return 3.14*(self.radius)**2 * (self.height)\n",
        "\n",
        "  def surface_area(self):\n",
        "    return 2*3.14 *(self.radius) * (self.height)"
      ],
      "execution_count": null,
      "outputs": []
    },
    {
      "cell_type": "code",
      "metadata": {
        "id": "lpXmuk_H0U6P"
      },
      "source": [
        "sample_cylinder = Cylinder(2,4)"
      ],
      "execution_count": null,
      "outputs": []
    },
    {
      "cell_type": "code",
      "metadata": {
        "id": "Ati5yaxU0cJP",
        "colab": {
          "base_uri": "https://localhost:8080/",
          "height": 34
        },
        "outputId": "ca2a7a70-3010-435a-d16f-1b587e52a67f"
      },
      "source": [
        "sample_cylinder.surface_area()"
      ],
      "execution_count": null,
      "outputs": [
        {
          "output_type": "execute_result",
          "data": {
            "text/plain": [
              "50.24"
            ]
          },
          "metadata": {
            "tags": []
          },
          "execution_count": 3
        }
      ]
    },
    {
      "cell_type": "code",
      "metadata": {
        "id": "-joLRFlT0vbs",
        "colab": {
          "base_uri": "https://localhost:8080/",
          "height": 34
        },
        "outputId": "3a150179-bc9a-458f-dcdd-d80667ee7f74"
      },
      "source": [
        "sample_cylinder.height"
      ],
      "execution_count": null,
      "outputs": [
        {
          "output_type": "execute_result",
          "data": {
            "text/plain": [
              "4"
            ]
          },
          "metadata": {
            "tags": []
          },
          "execution_count": 4
        }
      ]
    },
    {
      "cell_type": "code",
      "metadata": {
        "id": "1n4u3yt10zEl",
        "colab": {
          "base_uri": "https://localhost:8080/",
          "height": 34
        },
        "outputId": "33654425-a51b-415b-c018-8bc27031fce1"
      },
      "source": [
        "sample_cylinder.volume()"
      ],
      "execution_count": null,
      "outputs": [
        {
          "output_type": "execute_result",
          "data": {
            "text/plain": [
              "50.24"
            ]
          },
          "metadata": {
            "tags": []
          },
          "execution_count": 5
        }
      ]
    },
    {
      "cell_type": "markdown",
      "metadata": {
        "id": "KjPWYK0Rs8By"
      },
      "source": [
        "## <u>Problem 2</u>\n",
        "\n",
        "### You started your own money wallet where your customers can create their accounts and they can either deposit or withdraw money from this wallet.\n",
        "\n",
        "### Write a Python class <code>BankAccount</code> which takes the balance as an attribute. You can initialize the balance with 0 because any new account will have 0 rupees in their wallet. Next write two methods for your class :\n",
        "\n",
        "* #### <code>withdraw()</code> method which takes the amount to be withdrawn as an argument and returns the balance after the withdrawal\n",
        "\n",
        "* #### <code>deposit()</code> method which takes the amount to be deposited as an argument and returns the balance after the deposit.\n",
        "\n",
        "### Keep in mind that if the balance to be withdrawn exceeds the current balance, it should display a message that \"Not enough balance in your account\"\n"
      ]
    },
    {
      "cell_type": "code",
      "metadata": {
        "id": "RxVZTrenzfHC"
      },
      "source": [
        "# Write your BankAccount class below \n",
        "\n",
        "class BankAccount:\n",
        "  def __init__(self, balance=0):\n",
        "    self.balance = balance\n",
        "  \n",
        "  def deposit(self,amount):\n",
        "    # balance = self.balance\n",
        "    self.balance += amount\n",
        "    return self.balance\n",
        "\n",
        "  def withdraw(self,amount):\n",
        "    # balance = self.balance\n",
        "    if self.balance < amount :\n",
        "      print(\"Not enough balance in your account\")\n",
        "    else:\n",
        "      self.balance -= amount\n",
        "    return self.balance\n"
      ],
      "execution_count": null,
      "outputs": []
    },
    {
      "cell_type": "code",
      "metadata": {
        "id": "N1Yhpkiws8B3"
      },
      "source": [
        "# Create two instances of this class for two customers\n",
        "john_account = BankAccount()\n",
        "david_account = BankAccount(balance=10000)"
      ],
      "execution_count": null,
      "outputs": []
    },
    {
      "cell_type": "markdown",
      "metadata": {
        "id": "mSTxPcO3fWeX"
      },
      "source": [
        "### Next add some amount and withdraw some another amount for both the customers."
      ]
    },
    {
      "cell_type": "code",
      "metadata": {
        "id": "KpMdlB5Fs8B8",
        "colab": {
          "base_uri": "https://localhost:8080/"
        },
        "outputId": "319b8dae-bce3-4224-d5bf-6c0f3fc697a4"
      },
      "source": [
        "# Deposit some amount and withdrawing some amount from John's account\n",
        "john_account.deposit(100)"
      ],
      "execution_count": null,
      "outputs": [
        {
          "output_type": "execute_result",
          "data": {
            "text/plain": [
              "200"
            ]
          },
          "metadata": {
            "tags": []
          },
          "execution_count": 4
        }
      ]
    },
    {
      "cell_type": "code",
      "metadata": {
        "id": "4OB2CcV9gwXU",
        "colab": {
          "base_uri": "https://localhost:8080/",
          "height": 34
        },
        "outputId": "78a13783-c005-4059-868b-b38c63931fb6"
      },
      "source": [
        "john_account.balance"
      ],
      "execution_count": null,
      "outputs": [
        {
          "output_type": "execute_result",
          "data": {
            "text/plain": [
              "100"
            ]
          },
          "metadata": {
            "tags": []
          },
          "execution_count": 9
        }
      ]
    },
    {
      "cell_type": "code",
      "metadata": {
        "id": "mjIusxGCgw44",
        "colab": {
          "base_uri": "https://localhost:8080/",
          "height": 50
        },
        "outputId": "4a7dd120-d51d-4eaf-9acb-88f3d9cd8658"
      },
      "source": [
        "john_account.withdraw(150)"
      ],
      "execution_count": null,
      "outputs": [
        {
          "output_type": "stream",
          "text": [
            "Not enough balance in your account\n"
          ],
          "name": "stdout"
        },
        {
          "output_type": "execute_result",
          "data": {
            "text/plain": [
              "100"
            ]
          },
          "metadata": {
            "tags": []
          },
          "execution_count": 10
        }
      ]
    },
    {
      "cell_type": "code",
      "metadata": {
        "id": "r2chGQc-gwMQ",
        "colab": {
          "base_uri": "https://localhost:8080/",
          "height": 34
        },
        "outputId": "26a9dff8-c4a6-4304-96c9-2ba28fe1e708"
      },
      "source": [
        "john_account.withdraw(50)"
      ],
      "execution_count": null,
      "outputs": [
        {
          "output_type": "execute_result",
          "data": {
            "text/plain": [
              "50"
            ]
          },
          "metadata": {
            "tags": []
          },
          "execution_count": 11
        }
      ]
    },
    {
      "cell_type": "code",
      "metadata": {
        "id": "lZ0mybU7hnFr",
        "colab": {
          "base_uri": "https://localhost:8080/",
          "height": 34
        },
        "outputId": "9d402ed3-b549-41b5-ad87-858bd4f234b9"
      },
      "source": [
        "#  Deposit some amount and withdrawing some amount from David's account\n",
        "david_account.deposit(200)"
      ],
      "execution_count": null,
      "outputs": [
        {
          "output_type": "execute_result",
          "data": {
            "text/plain": [
              "10200"
            ]
          },
          "metadata": {
            "tags": []
          },
          "execution_count": 12
        }
      ]
    },
    {
      "cell_type": "code",
      "metadata": {
        "id": "FkFL6ViphstL",
        "colab": {
          "base_uri": "https://localhost:8080/",
          "height": 34
        },
        "outputId": "dd248aa5-44db-4715-eb5d-4da44bbf3963"
      },
      "source": [
        "david_account.withdraw(50)"
      ],
      "execution_count": null,
      "outputs": [
        {
          "output_type": "execute_result",
          "data": {
            "text/plain": [
              "10150"
            ]
          },
          "metadata": {
            "tags": []
          },
          "execution_count": 13
        }
      ]
    },
    {
      "cell_type": "markdown",
      "metadata": {
        "id": "5qd8g8UUs8CM"
      },
      "source": [
        "## <u>Problem 3 </u>\n",
        "\n",
        "### Create a class <code>Time </code> which takes two attributes hours and minutes.\n",
        "*  #### Make a method <code>DisplayTime()</code> which displays the time in AM/PM formats. For example if the input is 14 hours and 45 mins, then this method will print \"The time is 2:45 PM\". If the inputted hours exceeds 23 then print the message \"The input hours should be less than 24\" and if the inputted minutes exceeds 59 then print the message \"The input minutes should be less than 60.\" . Also if the input is 12 hours 30 minutes, then the displayed time would be 12:40 PM\n",
        "* #### Construct a method <code>DisplayRatio()</code> which should display the ratio of minutes to hours. For example, (8 hours and  16 mins) should display 2. Use <code>try</code>, <code>except</code> block to account for ZeroDivisionError."
      ]
    },
    {
      "cell_type": "code",
      "metadata": {
        "id": "FBJy9Sq_s8CN"
      },
      "source": [
        "class Time:\n",
        "\n",
        "  def __init__(self, hours, mins):\n",
        "    self.hours = hours\n",
        "    self.mins = mins\n",
        "\n",
        "\n",
        "  def displayTime(self):\n",
        "    if (self.hours > 23) or (self.mins > 59):\n",
        "      print(\"The input hours should be less than 24 and the input minutes should be less than 60\")\n",
        "    else:\n",
        "      if (self.hours < 12) and (self.mins < 60):\n",
        "        time_to_display = str(self.hours) + \":\" + str(self.mins) + \" AM\"\n",
        "        print(f\"The time is {time_to_display}\")\n",
        "      elif (self.hours ==12) and (self.mins < 60):\n",
        "        time_to_display = str(self.hours) + \":\" + str(self.mins) + \" PM\"\n",
        "        print(f\"The time is {time_to_display}\")\n",
        "      else:\n",
        "        time_to_display = str(self.hours - 12) + \":\" + str(self.mins) + \" PM\"\n",
        "        print(f\"The time is {time_to_display}\")\n",
        "\n",
        "\n",
        "  def displayRatio(self):\n",
        "    try:\n",
        "      print(self.mins/self.hours)\n",
        "    except:\n",
        "      print(\"The argument 'hours' should not be zero.\")"
      ],
      "execution_count": null,
      "outputs": []
    },
    {
      "cell_type": "code",
      "metadata": {
        "id": "zywXa51d6Eev",
        "colab": {
          "base_uri": "https://localhost:8080/",
          "height": 134
        },
        "outputId": "2f8c7207-e294-4471-a80b-7f6fd7cc230a"
      },
      "source": [
        "# Check for few sample inputs of hours and mins\n",
        "hour_min_list = [(23,45), (34,50), (12,34), (14,67),(19,20), (2,15), (0, 10)]\n",
        "\n",
        "# Using a for loop display the corresponding 12 hour time format for the above hour_min_list\n",
        "\n",
        "for hour,min in hour_min_list :\n",
        "  A = Time(hour,min)\n",
        "  A.displayTime()"
      ],
      "execution_count": null,
      "outputs": [
        {
          "output_type": "stream",
          "text": [
            "The time is 11:45 PM\n",
            "The input hours should be less than 24 and the input minutes should be less than 60\n",
            "The time is 12:34 PM\n",
            "The input hours should be less than 24 and the input minutes should be less than 60\n",
            "The time is 7:20 PM\n",
            "The time is 2:15 AM\n",
            "The time is 0:10 AM\n"
          ],
          "name": "stdout"
        }
      ]
    },
    {
      "cell_type": "code",
      "metadata": {
        "id": "O25IfCP5u18-",
        "colab": {
          "base_uri": "https://localhost:8080/",
          "height": 134
        },
        "outputId": "cd5a31d4-3e27-4536-8c4e-d31bd62ae1b3"
      },
      "source": [
        "# Also display the corresponding ratios for the above list\n",
        "\n",
        "for hour,min in hour_min_list :\n",
        "  A = Time(hour,min)\n",
        "  A.displayRatio()"
      ],
      "execution_count": null,
      "outputs": [
        {
          "output_type": "stream",
          "text": [
            "1.9565217391304348\n",
            "1.4705882352941178\n",
            "2.8333333333333335\n",
            "4.785714285714286\n",
            "1.0526315789473684\n",
            "7.5\n",
            "The argument 'hours' should not be zero.\n"
          ],
          "name": "stdout"
        }
      ]
    },
    {
      "cell_type": "code",
      "metadata": {
        "id": "B1IdtYmSi3Df"
      },
      "source": [
        ""
      ],
      "execution_count": null,
      "outputs": []
    }
  ]
}